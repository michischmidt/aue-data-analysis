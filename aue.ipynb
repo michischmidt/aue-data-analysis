{
 "cells": [
  {
   "cell_type": "markdown",
   "source": [
    "# Test"
   ],
   "metadata": {}
  },
  {
   "cell_type": "code",
   "execution_count": 23,
   "source": [
    "import pandas as pd\r\n",
    "import glob"
   ],
   "outputs": [],
   "metadata": {}
  },
  {
   "cell_type": "code",
   "execution_count": 29,
   "source": [
    "# Extract and combine all response csv's\r\n",
    "path = '.' # use your path\r\n",
    "all_files = glob.glob(path + \"/*_responses.csv\")\r\n",
    "\r\n",
    "li = []\r\n",
    "for filename in all_files:\r\n",
    "  df = pd.read_csv(filename, index_col = None, header = 0)\r\n",
    "  li.append(df)\r\n",
    "\r\n",
    "df_allData = pd.concat(li, axis=0, ignore_index = True)\r\n",
    "df_allData.to_csv(\"all_responses.csv\")"
   ],
   "outputs": [],
   "metadata": {}
  },
  {
   "cell_type": "code",
   "execution_count": null,
   "source": [
    "import matplotlib\r\n",
    "from matplotlib import pyplot as plt\r\n",
    "import seaborn as sns\r\n",
    "from scipy.stats import ttest_ind"
   ],
   "outputs": [],
   "metadata": {}
  },
  {
   "cell_type": "code",
   "execution_count": null,
   "source": [
    "sns.set_theme(style=\"whitegrid\")\r\n",
    "tips = sns.load_dataset(\"tips\")\r\n",
    "ax = sns.violinplot(x=tips[\"total_bill\"])"
   ],
   "outputs": [],
   "metadata": {}
  }
 ],
 "metadata": {
  "orig_nbformat": 4,
  "language_info": {
   "name": "python",
   "version": "3.9.6",
   "mimetype": "text/x-python",
   "codemirror_mode": {
    "name": "ipython",
    "version": 3
   },
   "pygments_lexer": "ipython3",
   "nbconvert_exporter": "python",
   "file_extension": ".py"
  },
  "kernelspec": {
   "name": "python3",
   "display_name": "Python 3.9.6 64-bit"
  },
  "interpreter": {
   "hash": "63fd5069d213b44bf678585dea6b12cceca9941eaf7f819626cde1f2670de90d"
  }
 },
 "nbformat": 4,
 "nbformat_minor": 2
}